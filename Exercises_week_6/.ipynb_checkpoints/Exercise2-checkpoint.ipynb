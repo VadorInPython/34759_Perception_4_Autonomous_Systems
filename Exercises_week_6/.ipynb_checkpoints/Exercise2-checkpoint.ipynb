{
 "cells": [
  {
   "attachments": {},
   "cell_type": "markdown",
   "metadata": {},
   "source": [
    "# Exercise 2\n",
    "Today we are going to continue to work on point clouds.\n",
    "We will work on clustering point clouds. That enables us to segment them."
   ]
  },
  {
   "cell_type": "code",
   "execution_count": 3,
   "metadata": {},
   "outputs": [
    {
     "name": "stdout",
     "output_type": "stream",
     "text": [
      "Jupyter environment detected. Enabling Open3D WebVisualizer.\n",
      "[Open3D INFO] WebRTC GUI backend enabled.\n",
      "[Open3D INFO] WebRTCWindowSystem: HTTP handshake server disabled.\n"
     ]
    }
   ],
   "source": [
    "import numpy as np\n",
    "import open3d as o3d\n",
    "import copy\n",
    "import matplotlib.pyplot as plt\n",
    "from sklearn import metrics\n",
    "from sklearn.cluster import KMeans, k_means"
   ]
  },
  {
   "cell_type": "code",
   "execution_count": 4,
   "metadata": {},
   "outputs": [],
   "source": [
    "def draw_labels_on_model(pcl,labels):\n",
    "    cmap = plt.get_cmap(\"tab20\")\n",
    "    pcl_temp = copy.deepcopy(pcl)\n",
    "    max_label = labels.max()\n",
    "    print(\"%s has %d clusters\" % (pcl_name, max_label + 1))\n",
    "    colors = cmap(labels / (max_label if max_label > 0 else 1))\n",
    "    colors[labels < 0] = 0\n",
    "    pcl_temp.colors = o3d.utility.Vector3dVector(colors[:, :3])\n",
    "    o3d.visualization.draw_geometries([pcl_temp])\n",
    "\n"
   ]
  },
  {
   "attachments": {},
   "cell_type": "markdown",
   "metadata": {},
   "source": [
    "## K-means on a cube\n",
    "We created a point cloud using `open3d`.\n",
    "Our goal is to segment each side using k-means."
   ]
  },
  {
   "cell_type": "code",
   "execution_count": 6,
   "metadata": {},
   "outputs": [
    {
     "name": "stdout",
     "output_type": "stream",
     "text": [
      "Cube has 10000 points\n"
     ]
    }
   ],
   "source": [
    "pcl_name = 'Cube'\n",
    "density = 1e4 # density of sample points to create\n",
    "pcl = o3d.geometry.TriangleMesh.create_box().sample_points_uniformly(int(density))\n",
    "eps = 0.4\n",
    "print(\"%s has %d points\" % (pcl_name, np.asarray(pcl.points).shape[0]))\n",
    "o3d.visualization.draw_geometries([pcl])"
   ]
  },
  {
   "attachments": {},
   "cell_type": "markdown",
   "metadata": {},
   "source": [
    "If we just use k-means out of the box with the point cloud, we will get what just has been visualized.\n",
    "\n",
    "Note: Using the '+' and '-' keys in the viewer will increase/decrease the size of the points."
   ]
  },
  {
   "cell_type": "code",
   "execution_count": 10,
   "metadata": {},
   "outputs": [
    {
     "name": "stdout",
     "output_type": "stream",
     "text": [
      "Cube has 6 clusters\n"
     ]
    }
   ],
   "source": [
    "km = KMeans(n_clusters=6, init='random',\n",
    "            n_init=10, max_iter=300, tol=1e-04, random_state=0)\n",
    "\n",
    "# Get the points from the pointcloud as nparray\n",
    "xyz = np.asarray(pcl.points)\n",
    "labels = km.fit_predict(xyz)\n",
    "draw_labels_on_model(pcl, labels)"
   ]
  },
  {
   "attachments": {},
   "cell_type": "markdown",
   "metadata": {},
   "source": [
    "We can see that we get six clusters, but they do not span a side.\n",
    "\n",
    "We try again, but this time we instead use the normals of the cube as input for k-means.\n",
    "\n",
    "The normals for each plane should be parallel with the other normals from said plane."
   ]
  },
  {
   "cell_type": "code",
   "execution_count": 14,
   "metadata": {},
   "outputs": [
    {
     "name": "stdout",
     "output_type": "stream",
     "text": [
      "Cube has 6 clusters\n"
     ]
    }
   ],
   "source": [
    "###\n",
    "# Code goes here\n",
    "pcl.estimate_normals(search_param=o3d.geometry.KDTreeSearchParamHybrid(radius=0.1, max_nn=30))\n",
    "normals = np.asarray(pcl.normals)\n",
    "\n",
    "km = KMeans(n_clusters=6, init='random',\n",
    "            n_init=10, max_iter=300, tol=1e-04, random_state=0)\n",
    "\n",
    "# Get the points from the pointcloud as nparray\n",
    "xyz = np.asarray(pcl.points)\n",
    "labels = km.fit_predict(xyz)\n",
    "draw_labels_on_model(pcl, labels)\n",
    "###"
   ]
  },
  {
   "attachments": {},
   "cell_type": "markdown",
   "metadata": {},
   "source": [
    "This still does not work, opposite sides will also have normals that point the other way ($\\vec{n}$ and $-\\vec{n}$).\n",
    "\n",
    "So, to combat this we can attempt to use the xyz coordinates and the normals."
   ]
  },
  {
   "attachments": {},
   "cell_type": "markdown",
   "metadata": {},
   "source": [
    "## More exercises\n",
    "\n",
    "### A) K-means continued.\n",
    "\n",
    "Combine the point cloud points (xyz) with the normals and do k-means.\n",
    "\n",
    "```xyz_n = np.concatenate((xyz, normals), axis=1)```\n",
    "\n",
    "Do you get better clusters?\n",
    "Why would adding the normals help?\n",
    "\n",
    "### B) \n",
    "Try weighting either the points or normals by scaling them by some factor. Can this perfectly segment each of the faces of the cube?\n",
    "### C)\n",
    "Try to cluster all the different shapes using k means.\n",
    "```{Python}\n",
    "d = 4\n",
    "mesh = o3d.geometry.TriangleMesh.create_tetrahedron().translate((-d, 0, 0))\n",
    "mesh += o3d.geometry.TriangleMesh.create_octahedron().translate((0, 0, 0))\n",
    "mesh += o3d.geometry.TriangleMesh.create_icosahedron().translate((d, 0, 0))\n",
    "mesh += o3d.geometry.TriangleMesh.create_torus().translate((-d, -d, 0))\n",
    "mesh += o3d.geometry.TriangleMesh.create_moebius(twists=1).translate(\n",
    "    (0, -d, 0))\n",
    "mesh += o3d.geometry.TriangleMesh.create_moebius(twists=2).translate(\n",
    "    (d, -d, 0))\n",
    "mesh.sample_points_uniformly(int(1e5)), 0.5\n",
    "```\n",
    "\n",
    "### D)\n",
    "Now try segmenting a different point cloud located at `pointclouds/fragment.ply`\n",
    "Are you able to cluster the point cloud?\n",
    "\n",
    "Which features could be useful to segment this point cloud?\n",
    "- fpfh features?\n",
    "- xyz\n",
    "- normals \n",
    "- colors\n",
    "\n",
    "Are you able to get clusters that make sense? Why?\n",
    "\n",
    "### E)\n",
    "Use the built-in `cluster_dbscan` algorithm.\n",
    "Tweak the parameters and see what you get out.\n",
    "\n",
    "Attempt on the combined figures and on `fragment.ply`\n",
    "```{Python}\n",
    "#eps (float) – Density parameter that is used to find neighbouring points.\n",
    "eps = 0.02\n",
    "\n",
    "#min_points (int) – Minimum number of points to form a cluster.\n",
    "min_points = 10\n",
    "\n",
    "labels = np.array(pcl.cluster_dbscan(eps=eps, min_points=min_points, print_progress=True))\n",
    "```\n"
   ]
  },
  {
   "cell_type": "markdown",
   "metadata": {},
   "source": [
    "### Solution A"
   ]
  },
  {
   "cell_type": "code",
   "execution_count": 23,
   "metadata": {},
   "outputs": [
    {
     "name": "stdout",
     "output_type": "stream",
     "text": [
      "Cube has 6 clusters\n"
     ]
    }
   ],
   "source": [
    "xyz_n = np.concatenate((xyz, normals), axis=1)\n",
    "\n",
    "km = KMeans(n_clusters=6, init='random',\n",
    "            n_init=10, max_iter=300, tol=1e-04, random_state=0)\n",
    "\n",
    "# Get the points from the pointcloud as nparray\n",
    "xyz_n = np.asarray(pcl.points)\n",
    "labels = km.fit_predict(xyz_n)\n",
    "draw_labels_on_model(pcl, labels)\n",
    "\n",
    "#####\n",
    "#Yeah, these are quite better"
   ]
  },
  {
   "cell_type": "markdown",
   "metadata": {},
   "source": [
    "### Solution B"
   ]
  },
  {
   "cell_type": "code",
   "execution_count": 36,
   "metadata": {},
   "outputs": [
    {
     "name": "stdout",
     "output_type": "stream",
     "text": [
      "Cube has 6 clusters\n",
      "[Open3D WARNING] [ViewControl] SetViewPoint() failed because window height and width are not set.\n"
     ]
    }
   ],
   "source": [
    "from sklearn.preprocessing import MinMaxScaler\n",
    "\n",
    "# Scale the points to [0, 1]\n",
    "scaler = MinMaxScaler()\n",
    "xyz_scaled = scaler.fit_transform(xyz)\n",
    "\n",
    "# Apply KMeans\n",
    "km = KMeans(n_clusters=6, init='random', n_init=10, max_iter=300, tol=1e-04, random_state=0)\n",
    "labels = km.fit_predict(xyz_scaled)\n",
    "\n",
    "# Draw labels on the model\n",
    "draw_labels_on_model(pcl, labels)\n",
    "\n",
    "###\n",
    "#Not really so great"
   ]
  },
  {
   "cell_type": "markdown",
   "metadata": {},
   "source": [
    "### Solution C"
   ]
  },
  {
   "cell_type": "code",
   "execution_count": 45,
   "metadata": {},
   "outputs": [],
   "source": [
    "import numpy as np\n",
    "import open3d as o3d\n",
    "\n",
    "def create_moebius(twists=1, radius=1, width=0.2, resolution=100):\n",
    "    # Create a Möbius strip with a given number of twists\n",
    "    vertices = []\n",
    "    triangles = []\n",
    "    \n",
    "    # Generate points for the Möbius strip\n",
    "    for i in range(resolution):\n",
    "        theta = 2 * np.pi * i / resolution\n",
    "        for j in range(2):\n",
    "            # Add a twist for the second set of points\n",
    "            twist = (j + twists) % 2\n",
    "            phi = np.pi * twist\n",
    "            \n",
    "            # Define the position of the vertices\n",
    "            x = (radius + width * np.cos(phi)) * np.cos(theta)\n",
    "            y = (radius + width * np.cos(phi)) * np.sin(theta)\n",
    "            z = width * np.sin(phi)\n",
    "            vertices.append((x, y, z))\n",
    "    \n",
    "    # Create triangles\n",
    "    for i in range(resolution):\n",
    "        next_i = (i + 1) % resolution\n",
    "        triangles.append((2 * i, 2 * next_i, 2 * i + 1))\n",
    "        triangles.append((2 * next_i, 2 * next_i + 1, 2 * i + 1))\n",
    "    \n",
    "    # Convert to Open3D mesh\n",
    "    mesh = o3d.geometry.TriangleMesh()\n",
    "    mesh.vertices = o3d.utility.Vector3dVector(vertices)\n",
    "    mesh.triangles = o3d.utility.Vector3iVector(triangles)\n",
    "    \n",
    "    # Compute normals\n",
    "    mesh.compute_vertex_normals()\n",
    "    \n",
    "    return mesh\n",
    "\n",
    "# Create and translate the shapes\n",
    "d = 4\n",
    "mesh_tetrahedron = o3d.geometry.TriangleMesh.create_tetrahedron().translate((-d, 0, 0))\n",
    "mesh_octahedron = o3d.geometry.TriangleMesh.create_octahedron().translate((0, 0, 0))\n",
    "mesh_icosahedron = o3d.geometry.TriangleMesh.create_icosahedron().translate((d, 0, 0))\n",
    "mesh_torus = o3d.geometry.TriangleMesh.create_torus().translate((-d, -d, 0))\n",
    "mesh_moebius_1 = create_moebius(twists=1).translate((0, -d, 0))\n",
    "mesh_moebius_2 = create_moebius(twists=2).translate((d, -d, 0))\n",
    "\n",
    "# Sample points uniformly from each shape\n",
    "num_points = int(1e5)  # Number of points to sample\n",
    "points_tetrahedron = mesh_tetrahedron.sample_points_uniformly(num_points // 6)\n",
    "points_octahedron = mesh_octahedron.sample_points_uniformly(num_points // 6)\n",
    "points_icosahedron = mesh_icosahedron.sample_points_uniformly(num_points // 6)\n",
    "points_torus = mesh_torus.sample_points_uniformly(num_points // 6)\n",
    "points_moebius_1 = mesh_moebius_1.sample_points_uniformly(num_points // 6)\n",
    "points_moebius_2 = mesh_moebius_2.sample_points_uniformly(num_points // 6)\n",
    "\n",
    "# Combine all points into one array\n",
    "points_combined = np.vstack((\n",
    "    np.asarray(points_tetrahedron.points),\n",
    "    np.asarray(points_octahedron.points),\n",
    "    np.asarray(points_icosahedron.points),\n",
    "    np.asarray(points_torus.points),\n",
    "    np.asarray(points_moebius_1.points),\n",
    "    np.asarray(points_moebius_2.points)\n",
    "))\n",
    "\n",
    "# Scale the points\n",
    "scaler = StandardScaler()\n",
    "points_scaled = scaler.fit_transform(points_combined)\n",
    "\n",
    "# Apply KMeans clustering\n",
    "n_clusters = 6  # You can adjust the number of clusters based on your needs\n",
    "kmeans = KMeans(n_clusters=n_clusters, init='random', n_init=10, max_iter=300, tol=1e-04, random_state=0)\n",
    "labels = kmeans.fit_predict(points_scaled)\n",
    "\n",
    "# Visualize the results\n",
    "import matplotlib.pyplot as plt\n",
    "\n",
    "# Create a point cloud to visualize\n",
    "clustered_points = o3d.geometry.PointCloud()\n",
    "clustered_points.points = o3d.utility.Vector3dVector(points_combined)\n",
    "# Assign colors based on the labels\n",
    "colors = np.array([plt.cm.jet(label / n_clusters)[:3] for label in labels])\n",
    "clustered_points.colors = o3d.utility.Vector3dVector(colors)\n",
    "\n",
    "# Visualize\n",
    "o3d.visualization.draw_geometries([clustered_points])"
   ]
  },
  {
   "cell_type": "markdown",
   "metadata": {},
   "source": [
    "### Solution D"
   ]
  },
  {
   "cell_type": "code",
   "execution_count": 2,
   "metadata": {},
   "outputs": [
    {
     "name": "stdout",
     "output_type": "stream",
     "text": [
      "Jupyter environment detected. Enabling Open3D WebVisualizer.\n",
      "[Open3D INFO] WebRTC GUI backend enabled.\n",
      "[Open3D INFO] WebRTCWindowSystem: HTTP handshake server disabled.\n"
     ]
    }
   ],
   "source": [
    "import open3d as o3d\n",
    "import numpy as np\n",
    "from sklearn.cluster import DBSCAN\n",
    "\n",
    "# Load the point cloud\n",
    "file_path = r\"C:\\Users\\szymo\\Desktop\\DTU_Masters_1_St_semester\\34759_Perception_4_Autunomous_Systems\\Exercises_week_6\\week6\\TestData\\fragment.ply\"\n",
    "pcd = o3d.io.read_point_cloud(file_path)\n",
    "\n",
    "# Visualize the original point cloud\n",
    "o3d.visualization.draw_geometries([pcd])\n",
    "\n",
    "# Preprocess: Voxel downsampling\n",
    "voxel_size = 0.01  # Adjust this value based on your point cloud density\n",
    "pcd = pcd.voxel_down_sample(voxel_size)\n",
    "\n",
    "# Estimate normals\n",
    "pcd.estimate_normals(search_param=o3d.geometry.KDTreeSearchParamHybrid(radius=0.1, max_nn=30))\n",
    "\n",
    "# Convert to numpy array\n",
    "points = np.asarray(pcd.points)\n",
    "normals = np.asarray(pcd.normals)\n",
    "\n",
    "# Prepare data for clustering\n",
    "# Combine XYZ coordinates and normals for clustering\n",
    "data_for_clustering = np.hstack((points, normals))\n",
    "\n",
    "# Apply DBSCAN clustering\n",
    "dbscan = DBSCAN(eps=0.05, min_samples=10)  # Adjust eps and min_samples based on your data\n",
    "labels = dbscan.fit_predict(data_for_clustering)\n",
    "\n",
    "# Create colors for clusters\n",
    "unique_labels = set(labels)\n",
    "colors = np.random.rand(len(unique_labels), 3)\n",
    "\n",
    "# Assign colors to points based on cluster labels\n",
    "colored_points = np.zeros((points.shape[0], 3))\n",
    "for k in unique_labels:\n",
    "    if k == -1:\n",
    "        # Noise points will be colored black\n",
    "        colored_points[labels == k] = [0, 0, 0]\n",
    "    else:\n",
    "        colored_points[labels == k] = colors[k]\n",
    "\n",
    "# Create a new point cloud for visualization\n",
    "pcd.colors = o3d.utility.Vector3dVector(colored_points)\n",
    "\n",
    "# Visualize clustered point cloud\n",
    "o3d.visualization.draw_geometries([pcd])"
   ]
  },
  {
   "cell_type": "markdown",
   "metadata": {},
   "source": [
    "### Solution E"
   ]
  },
  {
   "cell_type": "code",
   "execution_count": 9,
   "metadata": {},
   "outputs": [
    {
     "name": "stdout",
     "output_type": "stream",
     "text": [
      "Point cloud has 8 clusters (including noise)\n"
     ]
    }
   ],
   "source": [
    "import open3d as o3d\n",
    "import numpy as np\n",
    "\n",
    "# Load the point cloud from the specified file path\n",
    "file_path = r\"C:\\Users\\szymo\\Desktop\\DTU_Masters_1_St_semester\\34759_Perception_4_Autunomous_Systems\\Exercises_week_6\\week6\\TestData\\fragment.ply\"\n",
    "pcd = o3d.io.read_point_cloud(file_path)\n",
    "\n",
    "# Optionally, downsample the point cloud\n",
    "voxel_size = 0.01  # Adjust as necessary\n",
    "pcd = pcd.voxel_down_sample(voxel_size)\n",
    "\n",
    "# Estimate normals (optional)\n",
    "pcd.estimate_normals(search_param=o3d.geometry.KDTreeSearchParamHybrid(radius=0.1, max_nn=30))\n",
    "\n",
    "# Perform DBSCAN clustering\n",
    "eps = 0.02         # Density parameter\n",
    "min_points = 10    # Minimum number of points to form a cluster\n",
    "\n",
    "# Cluster the point cloud\n",
    "labels = np.array(pcd.cluster_dbscan(eps=eps, min_points=min_points, print_progress=True))\n",
    "\n",
    "# Number of clusters and noise points\n",
    "max_label = labels.max()\n",
    "print(f\"Point cloud has {max_label + 1} clusters (including noise)\")\n",
    "\n",
    "# Create a color map for clusters\n",
    "# Use max_label + 1 to accommodate all clusters plus noise\n",
    "colors = np.random.rand(max_label + 1, 3)  # Random colors for each cluster\n",
    "# Create a color array for the point cloud\n",
    "color_array = np.zeros((len(labels), 3))  # Default color is black\n",
    "\n",
    "# Assign colors to the point cloud based on labels\n",
    "for i in range(len(labels)):\n",
    "    if labels[i] == -1:\n",
    "        color_array[i] = [0, 0, 0]  # Noise points in black\n",
    "    else:\n",
    "        color_array[i] = colors[labels[i]]  # Assign cluster color\n",
    "\n",
    "# Assign colors to the point cloud\n",
    "pcd.colors = o3d.utility.Vector3dVector(color_array)\n",
    "\n",
    "# Visualize the clustered point cloud\n",
    "o3d.visualization.draw_geometries([pcd])"
   ]
  }
 ],
 "metadata": {
  "kernelspec": {
   "display_name": "Python 3 (ipykernel)",
   "language": "python",
   "name": "python3"
  },
  "language_info": {
   "codemirror_mode": {
    "name": "ipython",
    "version": 3
   },
   "file_extension": ".py",
   "mimetype": "text/x-python",
   "name": "python",
   "nbconvert_exporter": "python",
   "pygments_lexer": "ipython3",
   "version": "3.11.9"
  },
  "toc": {
   "base_numbering": 1,
   "nav_menu": {},
   "number_sections": true,
   "sideBar": true,
   "skip_h1_title": false,
   "title_cell": "Table of Contents",
   "title_sidebar": "Contents",
   "toc_cell": false,
   "toc_position": {},
   "toc_section_display": true,
   "toc_window_display": false
  },
  "varInspector": {
   "cols": {
    "lenName": 16,
    "lenType": 16,
    "lenVar": 40
   },
   "kernels_config": {
    "python": {
     "delete_cmd_postfix": "",
     "delete_cmd_prefix": "del ",
     "library": "var_list.py",
     "varRefreshCmd": "print(var_dic_list())"
    },
    "r": {
     "delete_cmd_postfix": ") ",
     "delete_cmd_prefix": "rm(",
     "library": "var_list.r",
     "varRefreshCmd": "cat(var_dic_list()) "
    }
   },
   "types_to_exclude": [
    "module",
    "function",
    "builtin_function_or_method",
    "instance",
    "_Feature"
   ],
   "window_display": false
  },
  "vscode": {
   "interpreter": {
    "hash": "cd5a613775d973e3ebb98e1e77334e79b1df328fc590baa0c4f920a9a4d0a201"
   }
  }
 },
 "nbformat": 4,
 "nbformat_minor": 4
}
