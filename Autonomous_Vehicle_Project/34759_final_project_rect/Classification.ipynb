{
 "cells": [
  {
   "cell_type": "markdown",
   "id": "32a401f2-755e-4b86-817b-569e2d11238c",
   "metadata": {},
   "source": [
    "# Object classification"
   ]
  },
  {
   "cell_type": "code",
   "execution_count": 7,
   "id": "13a28831-a196-4ec4-94fe-8d350ab0b60a",
   "metadata": {},
   "outputs": [],
   "source": [
    "#!pip install torch torchvision torchaudio\n",
    "#!pip install ultralytics"
   ]
  },
  {
   "cell_type": "code",
   "execution_count": 9,
   "id": "73792527-e770-4905-b3fd-2e418fa980de",
   "metadata": {
    "scrolled": true
   },
   "outputs": [],
   "source": [
    "import ultralytics\n",
    "from ultralytics import YOLO"
   ]
  },
  {
   "cell_type": "code",
   "execution_count": 10,
   "id": "89ce3a85-7906-4d4e-8fa6-5ff910b65910",
   "metadata": {},
   "outputs": [
    {
     "name": "stdout",
     "output_type": "stream",
     "text": [
      "PyTorch version: 2.5.1+cpu\n",
      "YOLO version: 8.3.29\n"
     ]
    }
   ],
   "source": [
    "print(\"PyTorch version:\", torch.__version__)\n",
    "print(\"YOLO version:\", ultralytics.__version__)"
   ]
  },
  {
   "cell_type": "code",
   "execution_count": null,
   "id": "ec2f4021-0097-49b6-9727-cf9d8be7cb94",
   "metadata": {},
   "outputs": [],
   "source": []
  }
 ],
 "metadata": {
  "kernelspec": {
   "display_name": "Python 3 (ipykernel)",
   "language": "python",
   "name": "python3"
  },
  "language_info": {
   "codemirror_mode": {
    "name": "ipython",
    "version": 3
   },
   "file_extension": ".py",
   "mimetype": "text/x-python",
   "name": "python",
   "nbconvert_exporter": "python",
   "pygments_lexer": "ipython3",
   "version": "3.10.15"
  }
 },
 "nbformat": 4,
 "nbformat_minor": 5
}
