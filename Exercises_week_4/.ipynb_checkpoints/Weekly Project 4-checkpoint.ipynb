{
 "cells": [
  {
   "cell_type": "markdown",
   "id": "b24990f3-4cc1-48ca-aae2-d4210a3a7e47",
   "metadata": {},
   "source": [
    "# Stereo camera calibration"
   ]
  },
  {
   "cell_type": "markdown",
   "id": "addb450e-cc6c-413e-8c42-cc05a878798c",
   "metadata": {},
   "source": [
    "This week you'll be provided with a set of stereo images, and your task is to undistort and rectify the images, such that they can be used with the stereo depth reconstruction you made on day 6. You are still not allowed to use opencv functions for block matching/template matching, however you are free to use opencv when undistorting the images. It is recommended that you finish the exercises from Monday before continuing with the weekly project.\n",
    "\n",
    "The image sets are found in the attached zip-file. Start with the rs.zip and move on to mynteye.zip once you have it working. The physical dimensions of each square of the pattern are 33.6 x 33.6 mm.\n",
    "\n",
    "Hint: You'll have to undistort the images before rectifying them.\n",
    "\n",
    "Hint: Some of the relevant functions you'll be using can be found [here](https://docs.opencv.org/4.10.0/d9/d0c/group__calib3d.html)."
   ]
  },
  {
   "cell_type": "markdown",
   "id": "f98c36da-dc62-4ab3-a7f0-3489c0242127",
   "metadata": {},
   "source": [
    "### Step 1. Load the images"
   ]
  },
  {
   "cell_type": "code",
   "execution_count": 50,
   "id": "ddcc1cdc-26d1-4fd8-91d7-59df7b9efbd7",
   "metadata": {},
   "outputs": [],
   "source": [
    "import os\n",
    "folder_path = \"rs\"\n",
    "\n",
    "image_files = [f for f in os.listdir(folder_path) if f.endswith(('.png', '.jpg', '.jpeg'))]"
   ]
  },
  {
   "cell_type": "code",
   "execution_count": null,
   "id": "aac65007-3a44-4aab-ab30-c4a2f68fd583",
   "metadata": {},
   "outputs": [],
   "source": []
  }
 ],
 "metadata": {
  "kernelspec": {
   "display_name": "Python 3 (ipykernel)",
   "language": "python",
   "name": "python3"
  },
  "language_info": {
   "codemirror_mode": {
    "name": "ipython",
    "version": 3
   },
   "file_extension": ".py",
   "mimetype": "text/x-python",
   "name": "python",
   "nbconvert_exporter": "python",
   "pygments_lexer": "ipython3",
   "version": "3.11.9"
  }
 },
 "nbformat": 4,
 "nbformat_minor": 5
}
